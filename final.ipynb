{
  "nbformat": 4,
  "nbformat_minor": 0,
  "metadata": {
    "colab": {
      "name": "final.ipynb",
      "provenance": [],
      "collapsed_sections": [],
      "mount_file_id": "1davRBrFmr8jZMvRSgqLURv9camj85IWV",
      "authorship_tag": "ABX9TyOiBSHCYVIpt/+3naZilLBG",
      "include_colab_link": true
    },
    "kernelspec": {
      "display_name": "Python 3",
      "name": "python3"
    },
    "language_info": {
      "name": "python"
    }
  },
  "cells": [
    {
      "cell_type": "markdown",
      "metadata": {
        "id": "view-in-github",
        "colab_type": "text"
      },
      "source": [
        "<a href=\"https://colab.research.google.com/github/sakshivohra/skinDiseaseCNN-Final-/blob/main/final.ipynb\" target=\"_parent\"><img src=\"https://colab.research.google.com/assets/colab-badge.svg\" alt=\"Open In Colab\"/></a>"
      ]
    },
    {
      "cell_type": "code",
      "metadata": {
        "id": "-SqDDDy12c_9"
      },
      "source": [
        "from keras.models import Sequential\n",
        "from keras.layers import Dense\n",
        "from keras.layers import Convolution2D\n",
        "from keras.layers import MaxPooling2D\n",
        "from keras.layers import Flatten\n",
        "import pandas as pd"
      ],
      "execution_count": null,
      "outputs": []
    },
    {
      "cell_type": "code",
      "metadata": {
        "id": "F6463n9l4Ky-"
      },
      "source": [
        "model = Sequential()"
      ],
      "execution_count": null,
      "outputs": []
    },
    {
      "cell_type": "markdown",
      "metadata": {
        "id": "D31Sxy6P4NYS"
      },
      "source": [
        "Adding Convolutional layers"
      ]
    },
    {
      "cell_type": "code",
      "metadata": {
        "id": "tCDXsI8d4N46"
      },
      "source": [
        "model.add(Convolution2D(32,(3,3),input_shape = (64,64,3), activation = 'relu'))"
      ],
      "execution_count": null,
      "outputs": []
    },
    {
      "cell_type": "code",
      "metadata": {
        "id": "_ITKMwHO4PfM"
      },
      "source": [
        "model.add(Convolution2D(32,(3,3),input_shape = (64,64,3), activation = 'relu'))"
      ],
      "execution_count": null,
      "outputs": []
    },
    {
      "cell_type": "markdown",
      "metadata": {
        "id": "IJSbMfpN4S1-"
      },
      "source": [
        "Adding Maxpooling layer"
      ]
    },
    {
      "cell_type": "code",
      "metadata": {
        "id": "-C6jEP0U4TWN"
      },
      "source": [
        "model.add(MaxPooling2D(pool_size = (2,2)))"
      ],
      "execution_count": null,
      "outputs": []
    },
    {
      "cell_type": "markdown",
      "metadata": {
        "id": "7henQAce4WWo"
      },
      "source": [
        "Add flattening layer"
      ]
    },
    {
      "cell_type": "code",
      "metadata": {
        "id": "KtsgPaSG4W15"
      },
      "source": [
        "model.add(Flatten())"
      ],
      "execution_count": null,
      "outputs": []
    },
    {
      "cell_type": "code",
      "metadata": {
        "id": "MRt2dLnY4ZcD",
        "colab": {
          "base_uri": "https://localhost:8080/"
        },
        "outputId": "9f98d0ff-49e5-4249-de88-dc0ccdbe6fba"
      },
      "source": [
        "model.summary()"
      ],
      "execution_count": null,
      "outputs": [
        {
          "output_type": "stream",
          "text": [
            "Model: \"sequential\"\n",
            "_________________________________________________________________\n",
            "Layer (type)                 Output Shape              Param #   \n",
            "=================================================================\n",
            "conv2d (Conv2D)              (None, 62, 62, 32)        896       \n",
            "_________________________________________________________________\n",
            "conv2d_1 (Conv2D)            (None, 60, 60, 32)        9248      \n",
            "_________________________________________________________________\n",
            "max_pooling2d (MaxPooling2D) (None, 30, 30, 32)        0         \n",
            "_________________________________________________________________\n",
            "flatten (Flatten)            (None, 28800)             0         \n",
            "=================================================================\n",
            "Total params: 10,144\n",
            "Trainable params: 10,144\n",
            "Non-trainable params: 0\n",
            "_________________________________________________________________\n"
          ],
          "name": "stdout"
        }
      ]
    },
    {
      "cell_type": "markdown",
      "metadata": {
        "id": "JxW9I-804cIl"
      },
      "source": [
        "Adding hidden layers"
      ]
    },
    {
      "cell_type": "code",
      "metadata": {
        "id": "gMA8wqvM4cj-"
      },
      "source": [
        "model.add(Dense(units=  128, kernel_initializer= 'uniform', activation = 'relu'))"
      ],
      "execution_count": null,
      "outputs": []
    },
    {
      "cell_type": "code",
      "metadata": {
        "id": "SrvBRGqd4eb7"
      },
      "source": [
        "model.add(Dense(units=  128, kernel_initializer= 'uniform', activation = 'relu'))"
      ],
      "execution_count": null,
      "outputs": []
    },
    {
      "cell_type": "code",
      "metadata": {
        "id": "3BAicFaf4ggl"
      },
      "source": [
        "model.add(Dense(units= 64, kernel_initializer= 'uniform', activation = 'relu'))"
      ],
      "execution_count": null,
      "outputs": []
    },
    {
      "cell_type": "code",
      "metadata": {
        "id": "-5Nmq1NP4ihK"
      },
      "source": [
        "model.add(Dense(units= 64, kernel_initializer= 'uniform', activation = 'relu'))"
      ],
      "execution_count": null,
      "outputs": []
    },
    {
      "cell_type": "markdown",
      "metadata": {
        "id": "8r4zvxFG4lnP"
      },
      "source": [
        "Adding Output layer"
      ]
    },
    {
      "cell_type": "code",
      "metadata": {
        "id": "wo7thKDg4mEl"
      },
      "source": [
        "model.add(Dense(activation = 'softmax', units= 5, kernel_initializer= 'uniform'))"
      ],
      "execution_count": null,
      "outputs": []
    },
    {
      "cell_type": "markdown",
      "metadata": {
        "id": "roCN3JVW4ouA"
      },
      "source": [
        "Preprocessing the data"
      ]
    },
    {
      "cell_type": "code",
      "metadata": {
        "id": "Dsi2mVPt4pHw"
      },
      "source": [
        "from keras.preprocessing.image import ImageDataGenerator"
      ],
      "execution_count": null,
      "outputs": []
    },
    {
      "cell_type": "code",
      "metadata": {
        "id": "hFU8TTQ84qpb"
      },
      "source": [
        "train_datagen = ImageDataGenerator(rescale = 1./255, shear_range = 0.2, zoom_range = 0.2, height_shift_range = 0.2, width_shift_range = 0.2, horizontal_flip = True, vertical_flip = True)\n",
        "test_datagen = ImageDataGenerator(rescale = 1)"
      ],
      "execution_count": null,
      "outputs": []
    },
    {
      "cell_type": "markdown",
      "metadata": {
        "id": "caev8N427Ekg"
      },
      "source": [
        "Loading the train and test data"
      ]
    },
    {
      "cell_type": "code",
      "metadata": {
        "id": "F_4EObX17FFZ"
      },
      "source": [
        "!unzip Skin\\ Diseases.zip -d Skin\\ Diseases"
      ],
      "execution_count": null,
      "outputs": []
    },
    {
      "cell_type": "code",
      "metadata": {
        "id": "Fb7MY7tf7JtS",
        "colab": {
          "base_uri": "https://localhost:8080/"
        },
        "outputId": "c16bc40d-cc99-473c-ceb0-77dd4e469955"
      },
      "source": [
        "x_train = train_datagen.flow_from_directory(r'/content/drive/MyDrive/Skin Diseases/train', target_size = (64, 64), batch_size = 32, class_mode = 'categorical')\n",
        "x_test = test_datagen.flow_from_directory(r'/content/drive/MyDrive/Skin Diseases/test', target_size = (64, 64), batch_size = 32, class_mode = 'categorical')"
      ],
      "execution_count": null,
      "outputs": [
        {
          "output_type": "stream",
          "text": [
            "Found 18988 images belonging to 5 classes.\n",
            "Found 575 images belonging to 5 classes.\n"
          ],
          "name": "stdout"
        }
      ]
    },
    {
      "cell_type": "code",
      "metadata": {
        "id": "llyTArmw7Llv",
        "colab": {
          "base_uri": "https://localhost:8080/"
        },
        "outputId": "9242848c-89e4-40f3-b5d3-e9eabc3ce81d"
      },
      "source": [
        "x_train.class_indices"
      ],
      "execution_count": null,
      "outputs": [
        {
          "output_type": "execute_result",
          "data": {
            "text/plain": [
              "{'Acne': 0, 'Melanoma': 1, 'Psoriasis': 2, 'Rosacea': 3, 'Vitiligo': 4}"
            ]
          },
          "metadata": {
            "tags": []
          },
          "execution_count": 20
        }
      ]
    },
    {
      "cell_type": "code",
      "metadata": {
        "id": "1Ybur0bW7MLg"
      },
      "source": [
        "model.compile(loss = 'categorical_crossentropy', optimizer = 'adam', metrics = ['accuracy'])"
      ],
      "execution_count": null,
      "outputs": []
    },
    {
      "cell_type": "markdown",
      "metadata": {
        "id": "jJHa-u1L7QU_"
      },
      "source": [
        "Fitting the data"
      ]
    },
    {
      "cell_type": "code",
      "metadata": {
        "id": "HQqW_hY87Q6l",
        "colab": {
          "base_uri": "https://localhost:8080/"
        },
        "outputId": "480ebc19-9216-42a1-a06b-f96a5b27d35f"
      },
      "source": [
        "model.fit(x_train, steps_per_epoch =100, epochs = 150, validation_data = x_test, validation_steps = 63)"
      ],
      "execution_count": 23,
      "outputs": [
        {
          "output_type": "stream",
          "text": [
            "Epoch 1/150\n",
            "100/100 [==============================] - ETA: 0s - loss: 1.2653 - accuracy: 0.5258 WARNING:tensorflow:Your input ran out of data; interrupting training. Make sure that your dataset or generator can generate at least `steps_per_epoch * epochs` batches (in this case, 63 batches). You may need to use the repeat() function when building your dataset.\n",
            "100/100 [==============================] - 1310s 13s/step - loss: 1.2635 - accuracy: 0.5263 - val_loss: 472.7009 - val_accuracy: 0.2017\n",
            "Epoch 2/150\n",
            "100/100 [==============================] - 976s 10s/step - loss: 0.8343 - accuracy: 0.6648\n",
            "Epoch 3/150\n",
            "100/100 [==============================] - 782s 8s/step - loss: 0.7208 - accuracy: 0.7109\n",
            "Epoch 4/150\n",
            "100/100 [==============================] - 652s 7s/step - loss: 0.7142 - accuracy: 0.7171\n",
            "Epoch 5/150\n",
            " 53/100 [==============>...............] - ETA: 4:24 - loss: 0.6611 - accuracy: 0.7677"
          ],
          "name": "stdout"
        },
        {
          "output_type": "stream",
          "text": [
            "/usr/local/lib/python3.7/dist-packages/PIL/TiffImagePlugin.py:788: UserWarning: Corrupt EXIF data.  Expecting to read 4 bytes but only got 0. \n",
            "  warnings.warn(str(msg))\n"
          ],
          "name": "stderr"
        },
        {
          "output_type": "stream",
          "text": [
            "100/100 [==============================] - 555s 6s/step - loss: 0.6716 - accuracy: 0.7642\n",
            "Epoch 6/150\n",
            "100/100 [==============================] - 471s 5s/step - loss: 0.6070 - accuracy: 0.7914\n",
            "Epoch 7/150\n",
            "100/100 [==============================] - 390s 4s/step - loss: 0.6097 - accuracy: 0.7823\n",
            "Epoch 8/150\n",
            "100/100 [==============================] - 327s 3s/step - loss: 0.5472 - accuracy: 0.8098\n",
            "Epoch 9/150\n",
            "100/100 [==============================] - 277s 3s/step - loss: 0.5574 - accuracy: 0.8040\n",
            "Epoch 10/150\n",
            "100/100 [==============================] - 244s 2s/step - loss: 0.5127 - accuracy: 0.8267\n",
            "Epoch 11/150\n",
            "100/100 [==============================] - 227s 2s/step - loss: 0.5914 - accuracy: 0.7891\n",
            "Epoch 12/150\n",
            "100/100 [==============================] - 208s 2s/step - loss: 0.5440 - accuracy: 0.8047\n",
            "Epoch 13/150\n",
            "100/100 [==============================] - 171s 2s/step - loss: 0.5444 - accuracy: 0.8070\n",
            "Epoch 14/150\n",
            "100/100 [==============================] - 130s 1s/step - loss: 0.5341 - accuracy: 0.8230\n",
            "Epoch 15/150\n",
            "100/100 [==============================] - 139s 1s/step - loss: 0.5314 - accuracy: 0.8093\n",
            "Epoch 16/150\n",
            "100/100 [==============================] - 119s 1s/step - loss: 0.5389 - accuracy: 0.8119\n",
            "Epoch 17/150\n",
            "100/100 [==============================] - 115s 1s/step - loss: 0.4853 - accuracy: 0.8297\n",
            "Epoch 18/150\n",
            "100/100 [==============================] - 114s 1s/step - loss: 0.5104 - accuracy: 0.8187\n",
            "Epoch 19/150\n",
            "100/100 [==============================] - 105s 1s/step - loss: 0.4928 - accuracy: 0.8318\n",
            "Epoch 20/150\n",
            "100/100 [==============================] - 92s 916ms/step - loss: 0.5276 - accuracy: 0.8237\n",
            "Epoch 21/150\n",
            "100/100 [==============================] - 89s 871ms/step - loss: 0.5104 - accuracy: 0.8258\n",
            "Epoch 22/150\n",
            "100/100 [==============================] - 88s 878ms/step - loss: 0.5014 - accuracy: 0.8248\n",
            "Epoch 23/150\n",
            "100/100 [==============================] - 86s 847ms/step - loss: 0.4561 - accuracy: 0.8410\n",
            "Epoch 24/150\n",
            "100/100 [==============================] - 81s 808ms/step - loss: 0.4806 - accuracy: 0.8339\n",
            "Epoch 25/150\n",
            "100/100 [==============================] - 76s 751ms/step - loss: 0.4962 - accuracy: 0.8218\n",
            "Epoch 26/150\n",
            "100/100 [==============================] - 78s 771ms/step - loss: 0.4831 - accuracy: 0.8362\n",
            "Epoch 27/150\n",
            "100/100 [==============================] - 72s 717ms/step - loss: 0.4858 - accuracy: 0.8350\n",
            "Epoch 28/150\n",
            "100/100 [==============================] - 72s 723ms/step - loss: 0.4606 - accuracy: 0.8333\n",
            "Epoch 29/150\n",
            "100/100 [==============================] - 74s 737ms/step - loss: 0.4412 - accuracy: 0.8375\n",
            "Epoch 30/150\n",
            "100/100 [==============================] - 72s 722ms/step - loss: 0.4470 - accuracy: 0.8383\n",
            "Epoch 31/150\n",
            "100/100 [==============================] - 72s 717ms/step - loss: 0.4357 - accuracy: 0.8443\n",
            "Epoch 32/150\n",
            "100/100 [==============================] - 73s 730ms/step - loss: 0.4569 - accuracy: 0.8379\n",
            "Epoch 33/150\n",
            "100/100 [==============================] - 69s 689ms/step - loss: 0.4570 - accuracy: 0.8375\n",
            "Epoch 34/150\n",
            "100/100 [==============================] - 70s 701ms/step - loss: 0.4604 - accuracy: 0.8443\n",
            "Epoch 35/150\n",
            "100/100 [==============================] - 70s 696ms/step - loss: 0.4238 - accuracy: 0.8469\n",
            "Epoch 36/150\n",
            "100/100 [==============================] - 67s 669ms/step - loss: 0.4248 - accuracy: 0.8479\n",
            "Epoch 37/150\n",
            "100/100 [==============================] - 74s 740ms/step - loss: 0.4523 - accuracy: 0.8399\n",
            "Epoch 38/150\n",
            "100/100 [==============================] - 68s 677ms/step - loss: 0.4286 - accuracy: 0.8471\n",
            "Epoch 39/150\n",
            "100/100 [==============================] - 72s 726ms/step - loss: 0.4565 - accuracy: 0.8351\n",
            "Epoch 40/150\n",
            "100/100 [==============================] - 65s 654ms/step - loss: 0.4062 - accuracy: 0.8563\n",
            "Epoch 41/150\n",
            "100/100 [==============================] - 71s 705ms/step - loss: 0.4298 - accuracy: 0.8493\n",
            "Epoch 42/150\n",
            "100/100 [==============================] - 72s 722ms/step - loss: 0.4163 - accuracy: 0.8521\n",
            "Epoch 43/150\n",
            "100/100 [==============================] - 71s 713ms/step - loss: 0.4553 - accuracy: 0.8384\n",
            "Epoch 44/150\n",
            "100/100 [==============================] - 68s 681ms/step - loss: 0.4206 - accuracy: 0.8492\n",
            "Epoch 45/150\n",
            "100/100 [==============================] - 71s 712ms/step - loss: 0.4014 - accuracy: 0.8516\n",
            "Epoch 46/150\n",
            "100/100 [==============================] - 71s 706ms/step - loss: 0.4259 - accuracy: 0.8516\n",
            "Epoch 47/150\n",
            "100/100 [==============================] - 71s 707ms/step - loss: 0.4585 - accuracy: 0.8368\n",
            "Epoch 48/150\n",
            "100/100 [==============================] - 73s 727ms/step - loss: 0.4083 - accuracy: 0.8564\n",
            "Epoch 49/150\n",
            "100/100 [==============================] - 68s 675ms/step - loss: 0.4293 - accuracy: 0.8404\n",
            "Epoch 50/150\n",
            "100/100 [==============================] - 70s 701ms/step - loss: 0.4346 - accuracy: 0.8454\n",
            "Epoch 51/150\n",
            "100/100 [==============================] - 71s 712ms/step - loss: 0.4343 - accuracy: 0.8445\n",
            "Epoch 52/150\n",
            "100/100 [==============================] - 69s 692ms/step - loss: 0.4103 - accuracy: 0.8501\n",
            "Epoch 53/150\n",
            "100/100 [==============================] - 71s 709ms/step - loss: 0.4130 - accuracy: 0.8622\n",
            "Epoch 54/150\n",
            "100/100 [==============================] - 76s 759ms/step - loss: 0.3902 - accuracy: 0.8592\n",
            "Epoch 55/150\n",
            "100/100 [==============================] - 72s 713ms/step - loss: 0.3888 - accuracy: 0.8649\n",
            "Epoch 56/150\n",
            "100/100 [==============================] - 67s 674ms/step - loss: 0.3999 - accuracy: 0.8582\n",
            "Epoch 57/150\n",
            "100/100 [==============================] - 64s 634ms/step - loss: 0.3669 - accuracy: 0.8689\n",
            "Epoch 58/150\n",
            "100/100 [==============================] - 69s 673ms/step - loss: 0.4355 - accuracy: 0.8336\n",
            "Epoch 59/150\n",
            "100/100 [==============================] - 72s 701ms/step - loss: 0.3784 - accuracy: 0.8660\n",
            "Epoch 60/150\n",
            "100/100 [==============================] - 71s 709ms/step - loss: 0.3759 - accuracy: 0.8673\n",
            "Epoch 61/150\n",
            "100/100 [==============================] - 69s 690ms/step - loss: 0.3713 - accuracy: 0.8630\n",
            "Epoch 62/150\n",
            "100/100 [==============================] - 62s 616ms/step - loss: 0.3658 - accuracy: 0.8686\n",
            "Epoch 63/150\n",
            "100/100 [==============================] - 66s 657ms/step - loss: 0.4074 - accuracy: 0.8507\n",
            "Epoch 64/150\n",
            "100/100 [==============================] - 63s 631ms/step - loss: 0.3754 - accuracy: 0.8696\n",
            "Epoch 65/150\n",
            "100/100 [==============================] - 70s 693ms/step - loss: 0.3574 - accuracy: 0.8756\n",
            "Epoch 66/150\n",
            "100/100 [==============================] - 73s 725ms/step - loss: 0.3631 - accuracy: 0.8740\n",
            "Epoch 67/150\n",
            "100/100 [==============================] - 64s 641ms/step - loss: 0.3648 - accuracy: 0.8662\n",
            "Epoch 68/150\n",
            "100/100 [==============================] - 68s 675ms/step - loss: 0.4032 - accuracy: 0.8537\n",
            "Epoch 69/150\n",
            "100/100 [==============================] - 70s 697ms/step - loss: 0.3777 - accuracy: 0.8671\n",
            "Epoch 70/150\n",
            "100/100 [==============================] - 73s 736ms/step - loss: 0.3389 - accuracy: 0.8799\n",
            "Epoch 71/150\n",
            "100/100 [==============================] - 72s 724ms/step - loss: 0.3682 - accuracy: 0.8670\n",
            "Epoch 72/150\n",
            "100/100 [==============================] - 66s 664ms/step - loss: 0.3948 - accuracy: 0.8581\n",
            "Epoch 73/150\n",
            "100/100 [==============================] - 71s 711ms/step - loss: 0.3553 - accuracy: 0.8678\n",
            "Epoch 74/150\n",
            "100/100 [==============================] - 64s 643ms/step - loss: 0.3919 - accuracy: 0.8628\n",
            "Epoch 75/150\n",
            "100/100 [==============================] - 66s 663ms/step - loss: 0.3588 - accuracy: 0.8720\n",
            "Epoch 76/150\n",
            "100/100 [==============================] - 64s 633ms/step - loss: 0.3578 - accuracy: 0.8758\n",
            "Epoch 77/150\n",
            "100/100 [==============================] - 70s 701ms/step - loss: 0.3806 - accuracy: 0.8574\n",
            "Epoch 78/150\n",
            "100/100 [==============================] - 72s 719ms/step - loss: 0.3338 - accuracy: 0.8811\n",
            "Epoch 79/150\n",
            "100/100 [==============================] - 71s 706ms/step - loss: 0.3541 - accuracy: 0.8714\n",
            "Epoch 80/150\n",
            "100/100 [==============================] - 67s 674ms/step - loss: 0.3541 - accuracy: 0.8743\n",
            "Epoch 81/150\n",
            "100/100 [==============================] - 72s 719ms/step - loss: 0.3415 - accuracy: 0.8772\n",
            "Epoch 82/150\n",
            "100/100 [==============================] - 64s 636ms/step - loss: 0.3696 - accuracy: 0.8646\n",
            "Epoch 83/150\n",
            "100/100 [==============================] - 75s 746ms/step - loss: 0.3445 - accuracy: 0.8791\n",
            "Epoch 84/150\n",
            "100/100 [==============================] - 64s 644ms/step - loss: 0.3931 - accuracy: 0.8541\n",
            "Epoch 85/150\n",
            "100/100 [==============================] - 72s 723ms/step - loss: 0.3434 - accuracy: 0.8789\n",
            "Epoch 86/150\n",
            "100/100 [==============================] - 68s 680ms/step - loss: 0.3604 - accuracy: 0.8676\n",
            "Epoch 87/150\n",
            "100/100 [==============================] - 70s 686ms/step - loss: 0.3923 - accuracy: 0.8468\n",
            "Epoch 88/150\n",
            "100/100 [==============================] - 67s 670ms/step - loss: 0.3598 - accuracy: 0.8693\n",
            "Epoch 89/150\n",
            "100/100 [==============================] - 69s 685ms/step - loss: 0.3338 - accuracy: 0.8803\n",
            "Epoch 90/150\n",
            "100/100 [==============================] - 72s 717ms/step - loss: 0.3659 - accuracy: 0.8675\n",
            "Epoch 91/150\n",
            "100/100 [==============================] - 66s 657ms/step - loss: 0.3279 - accuracy: 0.8778\n",
            "Epoch 92/150\n",
            "100/100 [==============================] - 67s 666ms/step - loss: 0.3375 - accuracy: 0.8833\n",
            "Epoch 93/150\n",
            "100/100 [==============================] - 69s 686ms/step - loss: 0.3554 - accuracy: 0.8737\n",
            "Epoch 94/150\n",
            "100/100 [==============================] - 67s 665ms/step - loss: 0.3280 - accuracy: 0.8842\n",
            "Epoch 95/150\n",
            "100/100 [==============================] - 71s 708ms/step - loss: 0.3307 - accuracy: 0.8772\n",
            "Epoch 96/150\n",
            "100/100 [==============================] - 69s 674ms/step - loss: 0.3250 - accuracy: 0.8821\n",
            "Epoch 97/150\n",
            "100/100 [==============================] - 71s 713ms/step - loss: 0.3136 - accuracy: 0.8842\n",
            "Epoch 98/150\n",
            "100/100 [==============================] - 71s 711ms/step - loss: 0.2927 - accuracy: 0.8967\n",
            "Epoch 99/150\n",
            "100/100 [==============================] - 70s 693ms/step - loss: 0.3246 - accuracy: 0.8812\n",
            "Epoch 100/150\n",
            "100/100 [==============================] - 68s 683ms/step - loss: 0.3315 - accuracy: 0.8873\n",
            "Epoch 101/150\n",
            "100/100 [==============================] - 72s 716ms/step - loss: 0.3466 - accuracy: 0.8762\n",
            "Epoch 102/150\n",
            "100/100 [==============================] - 67s 672ms/step - loss: 0.3160 - accuracy: 0.8913\n",
            "Epoch 103/150\n",
            "100/100 [==============================] - 69s 693ms/step - loss: 0.3243 - accuracy: 0.8816\n",
            "Epoch 104/150\n",
            "100/100 [==============================] - 67s 665ms/step - loss: 0.3503 - accuracy: 0.8743\n",
            "Epoch 105/150\n",
            "100/100 [==============================] - 70s 691ms/step - loss: 0.3097 - accuracy: 0.8917\n",
            "Epoch 106/150\n",
            "100/100 [==============================] - 72s 723ms/step - loss: 0.3066 - accuracy: 0.8920\n",
            "Epoch 107/150\n",
            "100/100 [==============================] - 71s 710ms/step - loss: 0.3180 - accuracy: 0.8896\n",
            "Epoch 108/150\n",
            "100/100 [==============================] - 70s 697ms/step - loss: 0.3625 - accuracy: 0.8771\n",
            "Epoch 109/150\n",
            "100/100 [==============================] - 66s 657ms/step - loss: 0.3259 - accuracy: 0.8832\n",
            "Epoch 110/150\n",
            "100/100 [==============================] - 73s 727ms/step - loss: 0.3006 - accuracy: 0.8898\n",
            "Epoch 111/150\n",
            "100/100 [==============================] - 70s 699ms/step - loss: 0.3158 - accuracy: 0.8840\n",
            "Epoch 112/150\n",
            "100/100 [==============================] - 65s 644ms/step - loss: 0.3419 - accuracy: 0.8747\n",
            "Epoch 113/150\n",
            "100/100 [==============================] - 63s 632ms/step - loss: 0.3354 - accuracy: 0.8774\n",
            "Epoch 114/150\n",
            "100/100 [==============================] - 71s 714ms/step - loss: 0.3301 - accuracy: 0.8832\n",
            "Epoch 115/150\n",
            "100/100 [==============================] - 65s 645ms/step - loss: 0.3318 - accuracy: 0.8862\n",
            "Epoch 116/150\n",
            "100/100 [==============================] - 73s 729ms/step - loss: 0.3421 - accuracy: 0.8732\n",
            "Epoch 117/150\n",
            "100/100 [==============================] - 69s 686ms/step - loss: 0.2928 - accuracy: 0.8938\n",
            "Epoch 118/150\n",
            "100/100 [==============================] - 65s 649ms/step - loss: 0.3188 - accuracy: 0.8838\n",
            "Epoch 119/150\n",
            "100/100 [==============================] - 69s 686ms/step - loss: 0.2910 - accuracy: 0.8949\n",
            "Epoch 120/150\n",
            "100/100 [==============================] - 73s 733ms/step - loss: 0.3484 - accuracy: 0.8717\n",
            "Epoch 121/150\n",
            "100/100 [==============================] - 68s 675ms/step - loss: 0.3326 - accuracy: 0.8798\n",
            "Epoch 122/150\n",
            "100/100 [==============================] - 67s 673ms/step - loss: 0.3781 - accuracy: 0.8610\n",
            "Epoch 123/150\n",
            "100/100 [==============================] - 71s 704ms/step - loss: 0.2742 - accuracy: 0.8974\n",
            "Epoch 124/150\n",
            "100/100 [==============================] - 67s 675ms/step - loss: 0.2982 - accuracy: 0.8899\n",
            "Epoch 125/150\n",
            "100/100 [==============================] - 69s 688ms/step - loss: 0.3328 - accuracy: 0.8853\n",
            "Epoch 126/150\n",
            "100/100 [==============================] - 73s 727ms/step - loss: 0.2899 - accuracy: 0.8944\n",
            "Epoch 127/150\n",
            "100/100 [==============================] - 72s 712ms/step - loss: 0.3095 - accuracy: 0.8872\n",
            "Epoch 128/150\n",
            "100/100 [==============================] - 76s 757ms/step - loss: 0.3310 - accuracy: 0.8798\n",
            "Epoch 129/150\n",
            "100/100 [==============================] - 72s 723ms/step - loss: 0.3626 - accuracy: 0.8712\n",
            "Epoch 130/150\n",
            "100/100 [==============================] - 67s 666ms/step - loss: 0.2639 - accuracy: 0.9057\n",
            "Epoch 131/150\n",
            "100/100 [==============================] - 70s 696ms/step - loss: 0.3023 - accuracy: 0.8945\n",
            "Epoch 132/150\n",
            "100/100 [==============================] - 69s 687ms/step - loss: 0.2876 - accuracy: 0.8924\n",
            "Epoch 133/150\n",
            "100/100 [==============================] - 67s 666ms/step - loss: 0.3357 - accuracy: 0.8813\n",
            "Epoch 134/150\n",
            "100/100 [==============================] - 67s 671ms/step - loss: 0.3296 - accuracy: 0.8832\n",
            "Epoch 135/150\n",
            "100/100 [==============================] - 68s 674ms/step - loss: 0.3031 - accuracy: 0.8970\n",
            "Epoch 136/150\n",
            "100/100 [==============================] - 65s 646ms/step - loss: 0.2941 - accuracy: 0.8953\n",
            "Epoch 137/150\n",
            "100/100 [==============================] - 66s 657ms/step - loss: 0.3312 - accuracy: 0.8815\n",
            "Epoch 138/150\n",
            "100/100 [==============================] - 72s 718ms/step - loss: 0.3888 - accuracy: 0.8586\n",
            "Epoch 139/150\n",
            "100/100 [==============================] - 68s 678ms/step - loss: 0.2749 - accuracy: 0.9021\n",
            "Epoch 140/150\n",
            "100/100 [==============================] - 67s 658ms/step - loss: 0.2718 - accuracy: 0.9007\n",
            "Epoch 141/150\n",
            "100/100 [==============================] - 75s 749ms/step - loss: 0.3085 - accuracy: 0.8954\n",
            "Epoch 142/150\n",
            "100/100 [==============================] - 67s 672ms/step - loss: 0.2828 - accuracy: 0.8985\n",
            "Epoch 143/150\n",
            "100/100 [==============================] - 71s 711ms/step - loss: 0.3018 - accuracy: 0.8941\n",
            "Epoch 144/150\n",
            "100/100 [==============================] - 68s 682ms/step - loss: 0.3063 - accuracy: 0.8916\n",
            "Epoch 145/150\n",
            "100/100 [==============================] - 67s 675ms/step - loss: 0.3083 - accuracy: 0.8899\n",
            "Epoch 146/150\n",
            "100/100 [==============================] - 66s 656ms/step - loss: 0.3311 - accuracy: 0.8831\n",
            "Epoch 147/150\n",
            "100/100 [==============================] - 63s 634ms/step - loss: 0.2907 - accuracy: 0.9003\n",
            "Epoch 148/150\n",
            "100/100 [==============================] - 71s 713ms/step - loss: 0.2917 - accuracy: 0.8950\n",
            "Epoch 149/150\n",
            "100/100 [==============================] - 69s 692ms/step - loss: 0.3221 - accuracy: 0.8939\n",
            "Epoch 150/150\n",
            "100/100 [==============================] - 66s 664ms/step - loss: 0.2908 - accuracy: 0.8848\n"
          ],
          "name": "stdout"
        },
        {
          "output_type": "execute_result",
          "data": {
            "text/plain": [
              "<keras.callbacks.History at 0x7f10c9d67b90>"
            ]
          },
          "metadata": {
            "tags": []
          },
          "execution_count": 23
        }
      ]
    },
    {
      "cell_type": "code",
      "metadata": {
        "id": "gGsjS5aEO7OM",
        "colab": {
          "base_uri": "https://localhost:8080/"
        },
        "outputId": "5d64ce33-010f-44e3-8e48-b3b4b46db87d"
      },
      "source": [
        "history = model.history.history\n",
        "for key in history.keys():\n",
        "    print(key)"
      ],
      "execution_count": 27,
      "outputs": [
        {
          "output_type": "stream",
          "text": [
            "loss\n",
            "accuracy\n",
            "val_loss\n",
            "val_accuracy\n"
          ],
          "name": "stdout"
        }
      ]
    },
    {
      "cell_type": "code",
      "metadata": {
        "id": "dXT7RHM9Bsw1"
      },
      "source": [
        "def plot_metrics(history):\n",
        "    \n",
        "    train_loss = history['loss']\n",
        "    val_loss = history['val_loss']\n",
        "    train_acc = history['accuracy']\n",
        "    val_acc = history['val_accuracy']\n",
        "    \n",
        "    # Loss\n",
        "    plt.figure()\n",
        "    plt.plot(train_loss, label='Training Loss')\n",
        "    plt.plot(val_loss, label='Validation Loss')\n",
        "    plt.title('Loss')\n",
        "    plt.legend()\n",
        "    plt.show()\n",
        "    \n",
        "    # Accuracy\n",
        "    plt.figure()\n",
        "    plt.plot(train_acc, label='Training Accuracy')\n",
        "    plt.plot(val_acc, label='Validation Accuracy')\n",
        "    plt.title('Accuracy')\n",
        "    plt.legend()\n",
        "    plt.show()"
      ],
      "execution_count": 28,
      "outputs": []
    },
    {
      "cell_type": "code",
      "metadata": {
        "colab": {
          "base_uri": "https://localhost:8080/",
          "height": 545
        },
        "id": "mnJSXcJ-uL9f",
        "outputId": "9f487622-4ef7-47dd-93fb-0115727234cf"
      },
      "source": [
        "import matplotlib.pyplot as plt\n",
        "plot_metrics(history) "
      ],
      "execution_count": 30,
      "outputs": [
        {
          "output_type": "display_data",
          "data": {
            "image/png": "[encoded data removed]",
            "text/plain": [
              "<Figure size 432x288 with 1 Axes>"
            ]
          },
          "metadata": {
            "tags": [],
            "needs_background": "light"
          }
        },
        {
          "output_type": "display_data",
          "data": {
            "image/png": "[encoded data removed]",
            "text/plain": [
              "<Figure size 432x288 with 1 Axes>"
            ]
          },
          "metadata": {
            "tags": [],
            "needs_background": "light"
          }
        }
      ]
    },
    {
      "cell_type": "markdown",
      "metadata": {
        "id": "fbRoIxa77UG6"
      },
      "source": [
        "Saving the model"
      ]
    },
    {
      "cell_type": "code",
      "metadata": {
        "id": "KZMGDn2J7Ukn"
      },
      "source": [
        "model.save(\"Skin_Diseases.h5\")"
      ],
      "execution_count": 31,
      "outputs": []
    }
  ]
}